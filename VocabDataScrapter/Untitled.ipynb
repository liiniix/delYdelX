{
 "cells": [
  {
   "cell_type": "code",
   "execution_count": 2,
   "id": "ad50657c-6cab-461f-94e0-fd2858790653",
   "metadata": {},
   "outputs": [],
   "source": [
    "import requests, pandas, os\n",
    "from bs4 import BeautifulSoup"
   ]
  },
  {
   "cell_type": "code",
   "execution_count": 3,
   "id": "2b70883a-266d-4dfa-80bf-61cdb00805c9",
   "metadata": {},
   "outputs": [],
   "source": [
    "# input files are csv with delmeter ;\n",
    "# get definitions from https://www.english-bangla.com/\n",
    "# to look up definition of 'failing', url is https://www.english-bangla.com/dictionary/failing\n",
    "# Bangla definition is at class format1. could be severa; format1"
   ]
  },
  {
   "cell_type": "code",
   "execution_count": 5,
   "id": "4caa5326-5088-4789-aa59-65c5b98b8f96",
   "metadata": {},
   "outputs": [
    {
     "name": "stdout",
     "output_type": "stream",
     "text": [
      " আশ্চর্যজনক; চমকপ্রদ; বিস্ময়কর; অদ্ভুত; মনোযোগ আকর্ষণকারী; \n",
      " কঠোর শাস্তি দেওয়া বা তিরস্কার করা\n",
      " দূর্বহ; কষ্টসাধ্য\n",
      " মিতব্যয়, ব্যয়-সংকোচন\n",
      " প্রাথমিক; মৌলিক; সরল\n",
      " সুশোভিত করা;\n",
      "\n",
      " পুনর্বাসন করা; ক্ষালন করা; দোষক্ষালন করা; \n",
      " পূর্বেই দেখা; দূরদর্শন করা; আগেই জানা; \n",
      " আমতা-আমতা করা,টলমহলভাবে চলা\n",
      " ব্যগ্র; উৎসাহজনক\n",
      " সেক দেওয়া \n",
      " ভুল; অসমীচীন কাজ; অসমীচীন মন্তব্য; ভুল পদক্ষেপ; \n",
      " গোঁড়া নয় এমন\n",
      " নট বা অভিনয়াদি সম্পর্কীয়\n",
      " অন্তর্নিহিত; সন্দেহাতীত।্‌\n",
      " অলঙ্ঘিত; অক্ষত; পবিত্র; \n",
      " দায়; বাধ্যবাধকতা; দায়িত্ব; দেনা; সম্ভাব্যতা; ঋণ; ঋণদায়; দায়বদ্ধতা; জরিমানা ইত্যাদির যোগ্য হওয়া; প্রবণতা; আর্থিক দায়; \n",
      " একগুঁয়ে, জেদী, অবাধ্য\n",
      " কষ্টসহিষ্ণু, যত্নশীল\n",
      " জড়; শ্লৈষ্মিক; ঢিলা; শান্ত; শ্লেষ্মাপূর্ণ; শ্লেষ্মা বৃদ্ধিকর; সহজে উত্তেজিত হয় না এমন; \n",
      " বিস্ময়কর; আশ্চর্যজনক; প্রকাণ্ড; অতি বৃহৎ; দৈত্যাকার; বিস্ময়কর; অস্বাভাবিক রকমর বিশালকায়; মস্ত বড়; \n",
      " প্রবৃত্তি, প্রবনতা, ঝোঁক\n",
      " সংশয়, দ্বিধা\n",
      " ফিরাইয়া লত্তয়া; পরিত্যাগ করা; প্রতিজ্ঞা ভঙ্গ করা; কথার খেলাপ করা; দান ছেড়ে দেওয়া; \n",
      " কৃপণতা করা; থামান; অভাবে রাখা; \n",
      " মেজাজ, কোপনতা, ধাতুর কাঠিন্য\n",
      " পরীক্ষামূলক; সাময়িকভাবেকৃত\n",
      " নজিরহীন; অভূতপূর্ব\n",
      " জীবন্ত; প্রাণবন্ত; প্রাণময়তা; উৎফুল্লতা\n"
     ]
    }
   ],
   "source": [
    "INPUT_FILE = 'group_22.csv'\n",
    "WORDGROUPS_DIR = '../WordGroups/'\n",
    "\n",
    "filename = os.path.join(WORDGROUPS_DIR, INPUT_FILE)\n",
    "df = pandas.read_csv(filename, sep=';', header=None)\n",
    "\n",
    "for i in range(df.shape[0]):\n",
    "    english_word = df[0][i]\n",
    "    #print(f\"Finding definition of '{english_word}'\")\n",
    "    url = f\"https://www.english-bangla.com/dictionary/{english_word}\"\n",
    "    response = requests.get(url)\n",
    "    soup = BeautifulSoup(response.text, 'html.parser')\n",
    "    definitions_html = soup.find_all(class_='format1')\n",
    "    definitions = [definition_html.text for definition_html in definitions_html]\n",
    "    \n",
    "    print(definitions[0] if len(definitions)>0 else '')"
   ]
  },
  {
   "cell_type": "code",
   "execution_count": null,
   "id": "0801966d-ec95-453c-b115-2412131c67d9",
   "metadata": {},
   "outputs": [],
   "source": []
  }
 ],
 "metadata": {
  "kernelspec": {
   "display_name": "Python 3 (ipykernel)",
   "language": "python",
   "name": "python3"
  },
  "language_info": {
   "codemirror_mode": {
    "name": "ipython",
    "version": 3
   },
   "file_extension": ".py",
   "mimetype": "text/x-python",
   "name": "python",
   "nbconvert_exporter": "python",
   "pygments_lexer": "ipython3",
   "version": "3.9.13"
  }
 },
 "nbformat": 4,
 "nbformat_minor": 5
}
